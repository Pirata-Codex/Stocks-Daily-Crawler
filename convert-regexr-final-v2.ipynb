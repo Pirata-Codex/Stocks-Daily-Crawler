{
 "cells": [
  {
   "cell_type": "markdown",
   "metadata": {},
   "source": [
    "<b>Required Libraries"
   ]
  },
  {
   "cell_type": "raw",
   "metadata": {},
   "source": [
    "pip install bs4\n",
    "pip install pandas\n",
    "pip install re\n",
    "pip install xlsx"
   ]
  },
  {
   "cell_type": "code",
   "execution_count": 1,
   "metadata": {},
   "outputs": [],
   "source": [
    "import bs4\n",
    "import pandas as pd\n",
    "import re"
   ]
  },
  {
   "cell_type": "code",
   "execution_count": 2,
   "metadata": {},
   "outputs": [],
   "source": [
    "soup = bs4.BeautifulSoup()"
   ]
  },
  {
   "cell_type": "code",
   "execution_count": 3,
   "metadata": {},
   "outputs": [],
   "source": [
    "f = open(\"12-11/MarketWatch1.htm\", encoding='utf-8')\n",
    "contents = f.read()\n",
    "soup = bs4.BeautifulSoup(contents, 'lxml')"
   ]
  },
  {
   "cell_type": "code",
   "execution_count": 4,
   "metadata": {},
   "outputs": [],
   "source": [
    "title = soup.findAll(\"div\", {\"class\": \"other\", \"id\":\"header\"})"
   ]
  },
  {
   "cell_type": "code",
   "execution_count": 5,
   "metadata": {},
   "outputs": [],
   "source": [
    "contents1 = str(title[0])\n",
    "headers = soup.findAll(\"div\", {\"class\": \"t0head\"})"
   ]
  },
  {
   "cell_type": "code",
   "execution_count": 6,
   "metadata": {},
   "outputs": [],
   "source": [
    "f1 = open(\"12-11/MarketWatch2.htm\", encoding='utf-8')\n",
    "contents4 = f1.read()\n",
    "soup4 = bs4.BeautifulSoup(contents4, 'lxml')"
   ]
  },
  {
   "cell_type": "code",
   "execution_count": 7,
   "metadata": {},
   "outputs": [],
   "source": [
    "title4 = soup4.findAll(\"div\", {\"class\": \"other\", \"id\":\"header\"})"
   ]
  },
  {
   "cell_type": "code",
   "execution_count": 8,
   "metadata": {},
   "outputs": [],
   "source": [
    "contents5 = str(title4[0])\n",
    "headers4 = soup4.findAll(\"div\", {\"class\": \"t0head\"})"
   ]
  },
  {
   "cell_type": "code",
   "execution_count": 9,
   "metadata": {},
   "outputs": [
    {
     "data": {
      "text/plain": [
       "'نماد'"
      ]
     },
     "execution_count": 9,
     "metadata": {},
     "output_type": "execute_result"
    }
   ],
   "source": [
    "headers[0].prettify().split('\\n')[1][1:]"
   ]
  },
  {
   "cell_type": "code",
   "execution_count": 10,
   "metadata": {},
   "outputs": [
    {
     "data": {
      "text/plain": [
       "['نماد',\n",
       " 'حجم خرید حقیقی',\n",
       " 'تعداد خرید حقیقی',\n",
       " 'میانگین سه ماه',\n",
       " 'ارزش معامله',\n",
       " 'حجم معامله',\n",
       " 'کمترین قیمت',\n",
       " 'بیشترین قیمت',\n",
       " 'اولین قیمت']"
      ]
     },
     "execution_count": 10,
     "metadata": {},
     "output_type": "execute_result"
    }
   ],
   "source": [
    "COLUMNS = 9\n",
    "lst = []\n",
    "lst2 = []\n",
    "lst.append(headers[0].prettify().split('\\n')[1][1:])\n",
    "lst2.append(headers4[0].prettify().split('\\n')[1][1:])\n",
    "for i in range(1,COLUMNS):\n",
    "    lst.append(headers[i].prettify().split('\\n')[1][1:])\n",
    "    lst2.append(headers4[i].prettify().split('\\n')[1][1:])\n",
    "lst"
   ]
  },
  {
   "cell_type": "code",
   "execution_count": 11,
   "metadata": {},
   "outputs": [
    {
     "data": {
      "text/plain": [
       "['نماد',\n",
       " 'حجم فروش حقیقی',\n",
       " 'تعداد فروش حقیقی',\n",
       " 'آخرین قیمت',\n",
       " 'درصد آخرین قیمت',\n",
       " 'قیمت پایانی',\n",
       " 'درصد قیمت پایانی',\n",
       " 'P/E',\n",
       " 'EPS']"
      ]
     },
     "execution_count": 11,
     "metadata": {},
     "output_type": "execute_result"
    }
   ],
   "source": [
    "lst2"
   ]
  },
  {
   "cell_type": "code",
   "execution_count": 12,
   "metadata": {},
   "outputs": [],
   "source": [
    "rows = soup.find(\"div\", {\"class\": \"other\", \"id\":\"main\"})\n",
    "contents2 = str(rows)\n",
    "soup2 = bs4.BeautifulSoup(contents2, 'lxml')\n",
    "test = soup2.findAll(\"div\",{\"class\",\"t0c\"})"
   ]
  },
  {
   "cell_type": "code",
   "execution_count": 13,
   "metadata": {},
   "outputs": [],
   "source": [
    "rows4 = soup4.find(\"div\", {\"class\": \"other\", \"id\":\"main\"})\n",
    "contents5 = str(rows4)\n",
    "soup5 = bs4.BeautifulSoup(contents5, 'lxml')\n",
    "test2 = soup5.findAll(\"div\",{\"class\",\"t0c\"})"
   ]
  },
  {
   "cell_type": "code",
   "execution_count": 14,
   "metadata": {},
   "outputs": [
    {
     "data": {
      "text/plain": [
       "<div class=\"t0c ch{_cfield0}\" style=\";;text-align:left;background-color:;color:#000000;width:100px\">2656865</div>"
      ]
     },
     "execution_count": 14,
     "metadata": {},
     "output_type": "execute_result"
    }
   ],
   "source": [
    "# >(0|[+|-]*[0-9]+(.|,)[0-9]+)<\n",
    "# >(0|[+|-]*[1-4].[0-9]{2})<\n",
    "test[1]\n",
    "#re.findall(r'>(0|[+|-]*[0-9]+(.|,)*[0-9]+\\s*(M|B)*|[0-9]+\\s*(M|B)*|[+|-]*[0-9]+|[A-Z]*[a-z]+|-{1})<',string=str(test2[2564]))[0][0]"
   ]
  },
  {
   "cell_type": "code",
   "execution_count": 15,
   "metadata": {},
   "outputs": [
    {
     "data": {
      "text/plain": [
       "'33,540'"
      ]
     },
     "execution_count": 15,
     "metadata": {},
     "output_type": "execute_result"
    }
   ],
   "source": [
    "test2[5].string"
   ]
  },
  {
   "cell_type": "code",
   "execution_count": 16,
   "metadata": {},
   "outputs": [],
   "source": [
    "data = []\n",
    "data2 = []\n",
    "for i in range(0,len(test),10):\n",
    "    tmp = []\n",
    "    tmp2 = []\n",
    "    for j in range(COLUMNS):\n",
    "        tmp.append(test[i+j].string)\n",
    "        tmp2.append(test2[i+j].string)\n",
    "    data.append(tmp)\n",
    "    data2.append(tmp2)"
   ]
  },
  {
   "cell_type": "code",
   "execution_count": 17,
   "metadata": {},
   "outputs": [],
   "source": [
    "df = pd.DataFrame(data=data, columns=lst)\n",
    "df2 = pd.DataFrame(data=data2, columns=lst2)"
   ]
  },
  {
   "cell_type": "code",
   "execution_count": 18,
   "metadata": {},
   "outputs": [],
   "source": [
    "df3 = pd.merge(df, df2, on='نماد')"
   ]
  },
  {
   "cell_type": "code",
   "execution_count": 19,
   "metadata": {},
   "outputs": [
    {
     "data": {
      "text/html": [
       "<div>\n",
       "<style scoped>\n",
       "    .dataframe tbody tr th:only-of-type {\n",
       "        vertical-align: middle;\n",
       "    }\n",
       "\n",
       "    .dataframe tbody tr th {\n",
       "        vertical-align: top;\n",
       "    }\n",
       "\n",
       "    .dataframe thead th {\n",
       "        text-align: right;\n",
       "    }\n",
       "</style>\n",
       "<table border=\"1\" class=\"dataframe\">\n",
       "  <thead>\n",
       "    <tr style=\"text-align: right;\">\n",
       "      <th></th>\n",
       "      <th>نماد</th>\n",
       "      <th>حجم خرید حقیقی</th>\n",
       "      <th>تعداد خرید حقیقی</th>\n",
       "      <th>میانگین سه ماه</th>\n",
       "      <th>ارزش معامله</th>\n",
       "      <th>حجم معامله</th>\n",
       "      <th>کمترین قیمت</th>\n",
       "      <th>بیشترین قیمت</th>\n",
       "      <th>اولین قیمت</th>\n",
       "      <th>حجم فروش حقیقی</th>\n",
       "      <th>تعداد فروش حقیقی</th>\n",
       "      <th>آخرین قیمت</th>\n",
       "      <th>درصد آخرین قیمت</th>\n",
       "      <th>قیمت پایانی</th>\n",
       "      <th>درصد قیمت پایانی</th>\n",
       "      <th>P/E</th>\n",
       "      <th>EPS</th>\n",
       "    </tr>\n",
       "  </thead>\n",
       "  <tbody>\n",
       "    <tr>\n",
       "      <th>601</th>\n",
       "      <td>حآسا</td>\n",
       "      <td>11483266</td>\n",
       "      <td>2215</td>\n",
       "      <td>6798388</td>\n",
       "      <td>505.36 B</td>\n",
       "      <td>11.483M</td>\n",
       "      <td>42,425</td>\n",
       "      <td>44,154</td>\n",
       "      <td>44,154</td>\n",
       "      <td>10291555</td>\n",
       "      <td>1146</td>\n",
       "      <td>44,154</td>\n",
       "      <td>5</td>\n",
       "      <td>44,008</td>\n",
       "      <td>4.65</td>\n",
       "      <td>155.51</td>\n",
       "      <td>283</td>\n",
       "    </tr>\n",
       "    <tr>\n",
       "      <th>602</th>\n",
       "      <td>آپ</td>\n",
       "      <td>7440544</td>\n",
       "      <td>851</td>\n",
       "      <td>5194704</td>\n",
       "      <td>124.003 B</td>\n",
       "      <td>7.441M</td>\n",
       "      <td>16,380</td>\n",
       "      <td>17,800</td>\n",
       "      <td>17,700</td>\n",
       "      <td>7440544</td>\n",
       "      <td>762</td>\n",
       "      <td>16,400</td>\n",
       "      <td>-4.87</td>\n",
       "      <td>16,670</td>\n",
       "      <td>-3.31</td>\n",
       "      <td>20.48</td>\n",
       "      <td>814</td>\n",
       "    </tr>\n",
       "    <tr>\n",
       "      <th>603</th>\n",
       "      <td>ساذري</td>\n",
       "      <td>0</td>\n",
       "      <td>0</td>\n",
       "      <td>7530</td>\n",
       "      <td>0</td>\n",
       "      <td>0</td>\n",
       "      <td>0</td>\n",
       "      <td>0</td>\n",
       "      <td>0</td>\n",
       "      <td>0</td>\n",
       "      <td>0</td>\n",
       "      <td>5,994</td>\n",
       "      <td>0</td>\n",
       "      <td>5,820</td>\n",
       "      <td>0</td>\n",
       "      <td>176.36</td>\n",
       "      <td>33</td>\n",
       "    </tr>\n",
       "    <tr>\n",
       "      <th>604</th>\n",
       "      <td>اپرداز</td>\n",
       "      <td>2078342</td>\n",
       "      <td>376</td>\n",
       "      <td>4011027</td>\n",
       "      <td>51.901 B</td>\n",
       "      <td>2.478M</td>\n",
       "      <td>20,594</td>\n",
       "      <td>22,680</td>\n",
       "      <td>22,680</td>\n",
       "      <td>2468342</td>\n",
       "      <td>203</td>\n",
       "      <td>20,594</td>\n",
       "      <td>-5</td>\n",
       "      <td>20,942</td>\n",
       "      <td>-3.39</td>\n",
       "      <td>9.48</td>\n",
       "      <td>2210</td>\n",
       "    </tr>\n",
       "    <tr>\n",
       "      <th>605</th>\n",
       "      <td>لابسا</td>\n",
       "      <td>666127</td>\n",
       "      <td>284</td>\n",
       "      <td>1531336</td>\n",
       "      <td>50 B</td>\n",
       "      <td>866,127</td>\n",
       "      <td>57,530</td>\n",
       "      <td>59,900</td>\n",
       "      <td>57,530</td>\n",
       "      <td>866127</td>\n",
       "      <td>227</td>\n",
       "      <td>57,530</td>\n",
       "      <td>-4.99</td>\n",
       "      <td>57,730</td>\n",
       "      <td>-4.66</td>\n",
       "      <td>21.84</td>\n",
       "      <td>2643</td>\n",
       "    </tr>\n",
       "  </tbody>\n",
       "</table>\n",
       "</div>"
      ],
      "text/plain": [
       "       نماد حجم خرید حقیقی تعداد خرید حقیقی میانگین سه ماه ارزش معامله  \\\n",
       "601    حآسا       11483266             2215        6798388    505.36 B   \n",
       "602      آپ        7440544              851        5194704   124.003 B   \n",
       "603   ساذري              0                0           7530           0   \n",
       "604  اپرداز        2078342              376        4011027    51.901 B   \n",
       "605   لابسا         666127              284        1531336        50 B   \n",
       "\n",
       "    حجم معامله کمترین قیمت بیشترین قیمت اولین قیمت حجم فروش حقیقی  \\\n",
       "601    11.483M      42,425       44,154     44,154       10291555   \n",
       "602     7.441M      16,380       17,800     17,700        7440544   \n",
       "603          0           0            0          0              0   \n",
       "604     2.478M      20,594       22,680     22,680        2468342   \n",
       "605    866,127      57,530       59,900     57,530         866127   \n",
       "\n",
       "    تعداد فروش حقیقی آخرین قیمت درصد آخرین قیمت قیمت پایانی درصد قیمت پایانی  \\\n",
       "601             1146     44,154               5      44,008             4.65   \n",
       "602              762     16,400           -4.87      16,670            -3.31   \n",
       "603                0      5,994               0       5,820                0   \n",
       "604              203     20,594              -5      20,942            -3.39   \n",
       "605              227     57,530           -4.99      57,730            -4.66   \n",
       "\n",
       "        P/E   EPS  \n",
       "601  155.51   283  \n",
       "602   20.48   814  \n",
       "603  176.36    33  \n",
       "604    9.48  2210  \n",
       "605   21.84  2643  "
      ]
     },
     "execution_count": 19,
     "metadata": {},
     "output_type": "execute_result"
    }
   ],
   "source": [
    "df3.tail()"
   ]
  },
  {
   "cell_type": "code",
   "execution_count": 20,
   "metadata": {},
   "outputs": [
    {
     "data": {
      "text/plain": [
       "True"
      ]
     },
     "execution_count": 20,
     "metadata": {},
     "output_type": "execute_result"
    }
   ],
   "source": [
    "df3['نماد'].dtypes == 'O'"
   ]
  },
  {
   "cell_type": "code",
   "execution_count": 21,
   "metadata": {},
   "outputs": [
    {
     "name": "stderr",
     "output_type": "stream",
     "text": [
      "c:\\users\\reza\\appdata\\local\\programs\\python\\python37\\lib\\site-packages\\ipykernel_launcher.py:1: FutureWarning: The default value of regex will change from True to False in a future version. In addition, single character regular expressions will*not* be treated as literal strings when regex=True.\n",
      "  \"\"\"Entry point for launching an IPython kernel.\n",
      "c:\\users\\reza\\appdata\\local\\programs\\python\\python37\\lib\\site-packages\\ipykernel_launcher.py:4: FutureWarning: The default value of regex will change from True to False in a future version. In addition, single character regular expressions will*not* be treated as literal strings when regex=True.\n",
      "  after removing the cwd from sys.path.\n"
     ]
    }
   ],
   "source": [
    "df3['ارزش معامله'] = df3['ارزش معامله'].str.replace('M', '000').str.replace('B','000000').str.replace(',','').str.replace(' ','').str.replace('.','')\n",
    "df3['ارزش معامله'] = pd.to_numeric(df3['ارزش معامله'],errors='coerce',downcast='integer')\n",
    "# =============================================================\n",
    "df3['حجم معامله'] = df3['حجم معامله'].str.replace('M', '000').str.replace('B','000000').str.replace(',','').str.replace(' ','').str.replace('.','')\n",
    "df3['حجم معامله'] = pd.to_numeric(df3['حجم معامله'],errors='coerce',downcast='integer')"
   ]
  },
  {
   "cell_type": "code",
   "execution_count": 22,
   "metadata": {},
   "outputs": [
    {
     "data": {
      "text/html": [
       "<div>\n",
       "<style scoped>\n",
       "    .dataframe tbody tr th:only-of-type {\n",
       "        vertical-align: middle;\n",
       "    }\n",
       "\n",
       "    .dataframe tbody tr th {\n",
       "        vertical-align: top;\n",
       "    }\n",
       "\n",
       "    .dataframe thead th {\n",
       "        text-align: right;\n",
       "    }\n",
       "</style>\n",
       "<table border=\"1\" class=\"dataframe\">\n",
       "  <thead>\n",
       "    <tr style=\"text-align: right;\">\n",
       "      <th></th>\n",
       "      <th>نماد</th>\n",
       "      <th>حجم خرید حقیقی</th>\n",
       "      <th>تعداد خرید حقیقی</th>\n",
       "      <th>میانگین سه ماه</th>\n",
       "      <th>ارزش معامله</th>\n",
       "      <th>حجم معامله</th>\n",
       "      <th>کمترین قیمت</th>\n",
       "      <th>بیشترین قیمت</th>\n",
       "      <th>اولین قیمت</th>\n",
       "      <th>حجم فروش حقیقی</th>\n",
       "      <th>تعداد فروش حقیقی</th>\n",
       "      <th>آخرین قیمت</th>\n",
       "      <th>درصد آخرین قیمت</th>\n",
       "      <th>قیمت پایانی</th>\n",
       "      <th>درصد قیمت پایانی</th>\n",
       "      <th>P/E</th>\n",
       "      <th>EPS</th>\n",
       "    </tr>\n",
       "  </thead>\n",
       "  <tbody>\n",
       "    <tr>\n",
       "      <th>601</th>\n",
       "      <td>حآسا</td>\n",
       "      <td>11483266</td>\n",
       "      <td>2215</td>\n",
       "      <td>6798388</td>\n",
       "      <td>50536000000</td>\n",
       "      <td>11483000</td>\n",
       "      <td>42,425</td>\n",
       "      <td>44,154</td>\n",
       "      <td>44,154</td>\n",
       "      <td>10291555</td>\n",
       "      <td>1146</td>\n",
       "      <td>44,154</td>\n",
       "      <td>5</td>\n",
       "      <td>44,008</td>\n",
       "      <td>4.65</td>\n",
       "      <td>155.51</td>\n",
       "      <td>283</td>\n",
       "    </tr>\n",
       "    <tr>\n",
       "      <th>602</th>\n",
       "      <td>آپ</td>\n",
       "      <td>7440544</td>\n",
       "      <td>851</td>\n",
       "      <td>5194704</td>\n",
       "      <td>124003000000</td>\n",
       "      <td>7441000</td>\n",
       "      <td>16,380</td>\n",
       "      <td>17,800</td>\n",
       "      <td>17,700</td>\n",
       "      <td>7440544</td>\n",
       "      <td>762</td>\n",
       "      <td>16,400</td>\n",
       "      <td>-4.87</td>\n",
       "      <td>16,670</td>\n",
       "      <td>-3.31</td>\n",
       "      <td>20.48</td>\n",
       "      <td>814</td>\n",
       "    </tr>\n",
       "    <tr>\n",
       "      <th>603</th>\n",
       "      <td>ساذري</td>\n",
       "      <td>0</td>\n",
       "      <td>0</td>\n",
       "      <td>7530</td>\n",
       "      <td>0</td>\n",
       "      <td>0</td>\n",
       "      <td>0</td>\n",
       "      <td>0</td>\n",
       "      <td>0</td>\n",
       "      <td>0</td>\n",
       "      <td>0</td>\n",
       "      <td>5,994</td>\n",
       "      <td>0</td>\n",
       "      <td>5,820</td>\n",
       "      <td>0</td>\n",
       "      <td>176.36</td>\n",
       "      <td>33</td>\n",
       "    </tr>\n",
       "    <tr>\n",
       "      <th>604</th>\n",
       "      <td>اپرداز</td>\n",
       "      <td>2078342</td>\n",
       "      <td>376</td>\n",
       "      <td>4011027</td>\n",
       "      <td>51901000000</td>\n",
       "      <td>2478000</td>\n",
       "      <td>20,594</td>\n",
       "      <td>22,680</td>\n",
       "      <td>22,680</td>\n",
       "      <td>2468342</td>\n",
       "      <td>203</td>\n",
       "      <td>20,594</td>\n",
       "      <td>-5</td>\n",
       "      <td>20,942</td>\n",
       "      <td>-3.39</td>\n",
       "      <td>9.48</td>\n",
       "      <td>2210</td>\n",
       "    </tr>\n",
       "    <tr>\n",
       "      <th>605</th>\n",
       "      <td>لابسا</td>\n",
       "      <td>666127</td>\n",
       "      <td>284</td>\n",
       "      <td>1531336</td>\n",
       "      <td>50000000</td>\n",
       "      <td>866127</td>\n",
       "      <td>57,530</td>\n",
       "      <td>59,900</td>\n",
       "      <td>57,530</td>\n",
       "      <td>866127</td>\n",
       "      <td>227</td>\n",
       "      <td>57,530</td>\n",
       "      <td>-4.99</td>\n",
       "      <td>57,730</td>\n",
       "      <td>-4.66</td>\n",
       "      <td>21.84</td>\n",
       "      <td>2643</td>\n",
       "    </tr>\n",
       "  </tbody>\n",
       "</table>\n",
       "</div>"
      ],
      "text/plain": [
       "       نماد حجم خرید حقیقی تعداد خرید حقیقی میانگین سه ماه   ارزش معامله  \\\n",
       "601    حآسا       11483266             2215        6798388   50536000000   \n",
       "602      آپ        7440544              851        5194704  124003000000   \n",
       "603   ساذري              0                0           7530             0   \n",
       "604  اپرداز        2078342              376        4011027   51901000000   \n",
       "605   لابسا         666127              284        1531336      50000000   \n",
       "\n",
       "     حجم معامله کمترین قیمت بیشترین قیمت اولین قیمت حجم فروش حقیقی  \\\n",
       "601    11483000      42,425       44,154     44,154       10291555   \n",
       "602     7441000      16,380       17,800     17,700        7440544   \n",
       "603           0           0            0          0              0   \n",
       "604     2478000      20,594       22,680     22,680        2468342   \n",
       "605      866127      57,530       59,900     57,530         866127   \n",
       "\n",
       "    تعداد فروش حقیقی آخرین قیمت درصد آخرین قیمت قیمت پایانی درصد قیمت پایانی  \\\n",
       "601             1146     44,154               5      44,008             4.65   \n",
       "602              762     16,400           -4.87      16,670            -3.31   \n",
       "603                0      5,994               0       5,820                0   \n",
       "604              203     20,594              -5      20,942            -3.39   \n",
       "605              227     57,530           -4.99      57,730            -4.66   \n",
       "\n",
       "        P/E   EPS  \n",
       "601  155.51   283  \n",
       "602   20.48   814  \n",
       "603  176.36    33  \n",
       "604    9.48  2210  \n",
       "605   21.84  2643  "
      ]
     },
     "execution_count": 22,
     "metadata": {},
     "output_type": "execute_result"
    }
   ],
   "source": [
    "df3.tail()"
   ]
  },
  {
   "cell_type": "markdown",
   "metadata": {},
   "source": [
    "### ============================== NEW ==========================="
   ]
  },
  {
   "cell_type": "code",
   "execution_count": 23,
   "metadata": {},
   "outputs": [],
   "source": [
    "df3['تعداد خرید حقیقی'] = pd.to_numeric(df3['تعداد خرید حقیقی'],errors='coerce',downcast='integer')\n",
    "df3['تعداد فروش حقیقی'] = pd.to_numeric(df3['تعداد فروش حقیقی'],errors='coerce',downcast='integer')\n",
    "df3['حجم خرید حقیقی'] = pd.to_numeric(df3['حجم خرید حقیقی'],errors='coerce',downcast='integer')\n",
    "df3['حجم فروش حقیقی'] = pd.to_numeric(df3['حجم فروش حقیقی'],errors='coerce',downcast='integer')"
   ]
  },
  {
   "cell_type": "code",
   "execution_count": 24,
   "metadata": {},
   "outputs": [],
   "source": [
    "df3['سرانه خرید'] = df3['ارزش معامله'] * df3['حجم خرید حقیقی'] / df3['تعداد خرید حقیقی'] * df3['حجم معامله']"
   ]
  },
  {
   "cell_type": "markdown",
   "metadata": {},
   "source": [
    "### ======================================================"
   ]
  },
  {
   "cell_type": "code",
   "execution_count": 25,
   "metadata": {},
   "outputs": [],
   "source": [
    "df3.to_excel(\"12-11/99_11_12.xlsx\",index=False)"
   ]
  },
  {
   "cell_type": "code",
   "execution_count": 26,
   "metadata": {},
   "outputs": [
    {
     "name": "stdout",
     "output_type": "stream",
     "text": [
      "<class 'pandas.core.frame.DataFrame'>\n",
      "Int64Index: 606 entries, 0 to 605\n",
      "Data columns (total 18 columns):\n",
      " #   Column            Non-Null Count  Dtype  \n",
      "---  ------            --------------  -----  \n",
      " 0   نماد              606 non-null    object \n",
      " 1   حجم خرید حقیقی    606 non-null    int32  \n",
      " 2   تعداد خرید حقیقی  606 non-null    int16  \n",
      " 3   میانگین سه ماه    606 non-null    object \n",
      " 4   ارزش معامله       606 non-null    int64  \n",
      " 5   حجم معامله        606 non-null    int32  \n",
      " 6   کمترین قیمت       606 non-null    object \n",
      " 7   بیشترین قیمت      606 non-null    object \n",
      " 8   اولین قیمت        606 non-null    object \n",
      " 9   حجم فروش حقیقی    606 non-null    int32  \n",
      " 10  تعداد فروش حقیقی  606 non-null    int32  \n",
      " 11  آخرین قیمت        606 non-null    object \n",
      " 12  درصد آخرین قیمت   606 non-null    object \n",
      " 13  قیمت پایانی       606 non-null    object \n",
      " 14  درصد قیمت پایانی  606 non-null    object \n",
      " 15  P/E               606 non-null    object \n",
      " 16  EPS               606 non-null    object \n",
      " 17  سرانه خرید        580 non-null    float64\n",
      "dtypes: float64(1), int16(1), int32(4), int64(1), object(11)\n",
      "memory usage: 76.9+ KB\n"
     ]
    }
   ],
   "source": [
    "df3.info()"
   ]
  },
  {
   "cell_type": "code",
   "execution_count": 27,
   "metadata": {},
   "outputs": [
    {
     "data": {
      "text/plain": [
       "(6070, 6080)"
      ]
     },
     "execution_count": 27,
     "metadata": {},
     "output_type": "execute_result"
    }
   ],
   "source": [
    "len(test),len(test2)"
   ]
  },
  {
   "cell_type": "code",
   "execution_count": null,
   "metadata": {},
   "outputs": [],
   "source": []
  }
 ],
 "metadata": {
  "kernelspec": {
   "display_name": "Python 3",
   "language": "python",
   "name": "python3"
  },
  "language_info": {
   "codemirror_mode": {
    "name": "ipython",
    "version": 3
   },
   "file_extension": ".py",
   "mimetype": "text/x-python",
   "name": "python",
   "nbconvert_exporter": "python",
   "pygments_lexer": "ipython3",
   "version": "3.7.6"
  }
 },
 "nbformat": 4,
 "nbformat_minor": 4
}
